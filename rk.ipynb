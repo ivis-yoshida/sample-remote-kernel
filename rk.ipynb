{
 "cells": [
  {
   "cell_type": "markdown",
   "id": "acc55a0e",
   "metadata": {},
   "source": [
    "# rk\n",
    "\n",
    "- https://github.com/korniichuk/rk  \n",
    "  上記リポジトリで開発されている手法。\n",
    "- https://ipsj.ixsq.nii.ac.jp/ej/?action=repository_action_common_download&item_id=194824&item_no=1&attribute_id=1&file_no=1  \n",
    "  上記論文中の図3の構成。\n",
    "- ノートブックのインタフェースで実験操作ができる。\n",
    "- 現状、うまく接続できていない。"
   ]
  },
  {
   "cell_type": "code",
   "execution_count": 2,
   "id": "f6a8f18a",
   "metadata": {},
   "outputs": [],
   "source": [
    "# 定数定義\n",
    "USER = \"ec2-user\"\n",
    "HOST = \"ec2-35-77-100-37.ap-northeast-1.compute.amazonaws.com\"\n",
    "SSH_OPTION = \"-i ~/.ssh/id_rsa \" + USER + \"@\" + HOST"
   ]
  },
  {
   "cell_type": "code",
   "execution_count": 1,
   "id": "262b67e6",
   "metadata": {},
   "outputs": [
    {
     "name": "stdout",
     "output_type": "stream",
     "text": [
      "Collecting rk\n",
      "  Downloading rk-0.3b1.zip (144 kB)\n",
      "\u001b[K     |████████████████████████████████| 144 kB 16.8 MB/s eta 0:00:01\n",
      "\u001b[?25hCollecting configobj\n",
      "  Downloading configobj-5.0.6.tar.gz (33 kB)\n",
      "Collecting execnet\n",
      "  Downloading execnet-1.9.0-py2.py3-none-any.whl (39 kB)\n",
      "Requirement already satisfied: paramiko in /srv/conda/envs/notebook/lib/python3.7/site-packages (from rk) (2.9.2)\n",
      "Requirement already satisfied: six in /srv/conda/envs/notebook/lib/python3.7/site-packages (from configobj->rk) (1.16.0)\n",
      "Requirement already satisfied: bcrypt>=3.1.3 in /srv/conda/envs/notebook/lib/python3.7/site-packages (from paramiko->rk) (3.2.0)\n",
      "Requirement already satisfied: pynacl>=1.0.1 in /srv/conda/envs/notebook/lib/python3.7/site-packages (from paramiko->rk) (1.5.0)\n",
      "Requirement already satisfied: cryptography>=2.5 in /srv/conda/envs/notebook/lib/python3.7/site-packages (from paramiko->rk) (3.4.7)\n",
      "Requirement already satisfied: cffi>=1.1 in /srv/conda/envs/notebook/lib/python3.7/site-packages (from bcrypt>=3.1.3->paramiko->rk) (1.14.6)\n",
      "Requirement already satisfied: pycparser in /srv/conda/envs/notebook/lib/python3.7/site-packages (from cffi>=1.1->bcrypt>=3.1.3->paramiko->rk) (2.20)\n",
      "Building wheels for collected packages: rk, configobj\n",
      "  Building wheel for rk (setup.py) ... \u001b[?25ldone\n",
      "\u001b[?25h  Created wheel for rk: filename=rk-0.3b1-py3-none-any.whl size=23423 sha256=1f55e4341d47eacbddb1cfb6baed7f87eff89da7e59a65421d5d6f80cef0cdff\n",
      "  Stored in directory: /home/jovyan/.cache/pip/wheels/1f/07/fa/af105bbf2db5b8a3c0e11d420f22efd8098bf5d4f7b5a43364\n",
      "  Building wheel for configobj (setup.py) ... \u001b[?25ldone\n",
      "\u001b[?25h  Created wheel for configobj: filename=configobj-5.0.6-py3-none-any.whl size=34546 sha256=d59c2546168a6f7c4b90ba888e9d36444e5e16936377ff7f652b2b9f5e265d79\n",
      "  Stored in directory: /home/jovyan/.cache/pip/wheels/0d/c4/19/13d74440f2a571841db6b6e0a273694327498884dafb9cf978\n",
      "Successfully built rk configobj\n",
      "Installing collected packages: execnet, configobj, rk\n",
      "Successfully installed configobj-5.0.6 execnet-1.9.0 rk-0.3b1\n"
     ]
    }
   ],
   "source": [
    "!pip install rk"
   ]
  },
  {
   "cell_type": "code",
   "execution_count": 6,
   "id": "e75cce0b",
   "metadata": {},
   "outputs": [
    {
     "name": "stdout",
     "output_type": "stream",
     "text": [
      "hello\r\n"
     ]
    }
   ],
   "source": [
    "# 疎通確認\n",
    "!ssh -i .ssh/id_rsa $USER@$HOST \"echo hello\""
   ]
  },
  {
   "cell_type": "code",
   "execution_count": 11,
   "id": "4861f677",
   "metadata": {},
   "outputs": [
    {
     "name": "stdout",
     "output_type": "stream",
     "text": [
      "Name: rk\r\n",
      "Version: 0.3b1\r\n",
      "Summary: The remote jupyter kernel/kernels administration utility\r\n",
      "Home-page: https://github.com/korniichuk/rk\r\n",
      "Author: Ruslan Korniichuk\r\n",
      "Author-email: ruslan.korniichuk@gmail.com\r\n",
      "License: Public Domain\r\n",
      "Location: /srv/conda/envs/notebook/lib/python3.7/site-packages\r\n",
      "Requires: execnet, configobj, paramiko\r\n",
      "Required-by: \r\n"
     ]
    }
   ],
   "source": [
    "!pip show rk"
   ]
  },
  {
   "cell_type": "code",
   "execution_count": 12,
   "id": "76c92035",
   "metadata": {},
   "outputs": [],
   "source": [
    "# edit /srv/conda/envs/notebook/lib/python3.7/site-packages/rk/config/rk.ini\n",
    "\n",
    "# -> kernels_location = \".local/share/jupyter/kernels/\""
   ]
  },
  {
   "cell_type": "code",
   "execution_count": 13,
   "id": "6895cd60",
   "metadata": {},
   "outputs": [
    {
     "name": "stdout",
     "output_type": "stream",
     "text": [
      "installed template of remote kernel\r\n"
     ]
    }
   ],
   "source": [
    "!rk install-template"
   ]
  },
  {
   "cell_type": "code",
   "execution_count": 14,
   "id": "3ea73573",
   "metadata": {},
   "outputs": [
    {
     "data": {
      "text/plain": [
       "'\\n{\\n \"argv\": [\\n  \"rkscript\",\\n  \"python\",\\n  \"{connection_file}\",\\n  \"ec2-user@ec2-35-77-100-37.ap-northeast-1.compute.amazonaws.com\"\\n ],\\n \"display_name\": \"Template\",\\n \"language\": \"python\"\\n}\\n'"
      ]
     },
     "execution_count": 14,
     "metadata": {},
     "output_type": "execute_result"
    }
   ],
   "source": [
    "# edit .local/share/jupyter/kernels/template/kernel.json\n",
    "\"\"\"\n",
    "{\n",
    " \"argv\": [\n",
    "  \"rkscript\",\n",
    "  \"python\",\n",
    "  \"{connection_file}\",\n",
    "  \"ec2-user@ec2-35-77-100-37.ap-northeast-1.compute.amazonaws.com\"\n",
    " ],\n",
    " \"display_name\": \"Template\",\n",
    " \"language\": \"python\"\n",
    "}\n",
    "\"\"\""
   ]
  },
  {
   "cell_type": "code",
   "execution_count": null,
   "id": "459cbe23",
   "metadata": {},
   "outputs": [],
   "source": [
    "# reload window"
   ]
  },
  {
   "cell_type": "code",
   "execution_count": null,
   "id": "01fbaddd",
   "metadata": {},
   "outputs": [],
   "source": [
    "# choise Kernel"
   ]
  },
  {
   "cell_type": "code",
   "execution_count": null,
   "id": "cb8f6f18",
   "metadata": {},
   "outputs": [],
   "source": [
    "1 + 1"
   ]
  },
  {
   "cell_type": "code",
   "execution_count": null,
   "id": "42a22d58",
   "metadata": {},
   "outputs": [],
   "source": []
  }
 ],
 "metadata": {
  "kernelspec": {
   "display_name": "Template",
   "language": "python3",
   "name": "template"
  },
  "language_info": {
   "codemirror_mode": {
    "name": "ipython",
    "version": 3
   },
   "file_extension": ".py",
   "mimetype": "text/x-python",
   "name": "python",
   "nbconvert_exporter": "python",
   "pygments_lexer": "ipython3",
   "version": "3.7.10"
  }
 },
 "nbformat": 4,
 "nbformat_minor": 5
}
