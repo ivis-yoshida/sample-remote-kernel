{
 "cells": [
  {
   "cell_type": "markdown",
   "id": "598de926",
   "metadata": {},
   "source": [
    "# simple-ssh\n",
    "\n",
    "- https://ipsj.ixsq.nii.ac.jp/ej/?action=repository_action_common_download&item_id=194824&item_no=1&attribute_id=1&file_no=1  \n",
    "  上記論文中の図4の構成。\n",
    "- ノートブックのインタフェースで実験操作ができる。\n",
    "- しかし、すべてのコマンドにsshを付け加えて、セクションを毎回貼りなおす必要がある。\n",
    "- コード付帯機能内で閉じた環境とは、コマンドが異なる。\n",
    "- それに関連して、システムによる実験再現が困難かもしれない。\n",
    "- あるいは、ワークフローのみをノードブック実行とし、実験実施については諦めて、研究者自身にSSH操作させてもよいかもしれない。"
   ]
  },
  {
   "cell_type": "code",
   "execution_count": 14,
   "id": "704d6429",
   "metadata": {},
   "outputs": [],
   "source": [
    "# 定数定義\n",
    "USER = \"ec2-user\"\n",
    "HOST = \"ec2-35-77-100-37.ap-northeast-1.compute.amazonaws.com\"\n",
    "SSH_OPTION = \"-i ~/.ssh/id_rsa \" + USER + \"@\" + HOST"
   ]
  },
  {
   "cell_type": "code",
   "execution_count": null,
   "id": "8dc8330a",
   "metadata": {},
   "outputs": [],
   "source": [
    "# SSH鍵の設定\n",
    "# 左上のバナーを押下し、ドラッグアンドドロップでSSH公開鍵をアップロードしてください。\n",
    "!mv ~/yoshida0118.pem ~/.ssh/id_rsa\n",
    "!chmod 600 ~/.ssh/id_rsa"
   ]
  },
  {
   "cell_type": "code",
   "execution_count": 8,
   "id": "aa7cba0c",
   "metadata": {},
   "outputs": [
    {
     "name": "stdout",
     "output_type": "stream",
     "text": [
      "Loaded plugins: extras_suggestions, langpacks, priorities, update-motd\n",
      "Resolving Dependencies\n",
      "--> Running transaction check\n",
      "---> Package git.x86_64 0:2.32.0-1.amzn2.0.1 will be installed\n",
      "--> Processing Dependency: perl-Git = 2.32.0-1.amzn2.0.1 for package: git-2.32.0-1.amzn2.0.1.x86_64\n",
      "--> Processing Dependency: git-core-doc = 2.32.0-1.amzn2.0.1 for package: git-2.32.0-1.amzn2.0.1.x86_64\n",
      "--> Processing Dependency: git-core = 2.32.0-1.amzn2.0.1 for package: git-2.32.0-1.amzn2.0.1.x86_64\n",
      "--> Processing Dependency: emacs-filesystem >= 27.1 for package: git-2.32.0-1.amzn2.0.1.x86_64\n",
      "--> Processing Dependency: perl(Term::ReadKey) for package: git-2.32.0-1.amzn2.0.1.x86_64\n",
      "--> Processing Dependency: perl(Git::I18N) for package: git-2.32.0-1.amzn2.0.1.x86_64\n",
      "--> Processing Dependency: perl(Git) for package: git-2.32.0-1.amzn2.0.1.x86_64\n",
      "--> Running transaction check\n",
      "---> Package emacs-filesystem.noarch 1:27.2-4.amzn2.0.1 will be installed\n",
      "---> Package git-core.x86_64 0:2.32.0-1.amzn2.0.1 will be installed\n",
      "---> Package git-core-doc.noarch 0:2.32.0-1.amzn2.0.1 will be installed\n",
      "---> Package perl-Git.noarch 0:2.32.0-1.amzn2.0.1 will be installed\n",
      "--> Processing Dependency: perl(Error) for package: perl-Git-2.32.0-1.amzn2.0.1.noarch\n",
      "---> Package perl-TermReadKey.x86_64 0:2.30-20.amzn2.0.2 will be installed\n",
      "--> Running transaction check\n",
      "---> Package perl-Error.noarch 1:0.17020-2.amzn2 will be installed\n",
      "--> Finished Dependency Resolution\n",
      "\n",
      "Dependencies Resolved\n",
      "\n",
      "================================================================================\n",
      " Package              Arch       Version                   Repository      Size\n",
      "================================================================================\n",
      "Installing:\n",
      " git                  x86_64     2.32.0-1.amzn2.0.1        amzn2-core     126 k\n",
      "Installing for dependencies:\n",
      " emacs-filesystem     noarch     1:27.2-4.amzn2.0.1        amzn2-core      67 k\n",
      " git-core             x86_64     2.32.0-1.amzn2.0.1        amzn2-core     4.8 M\n",
      " git-core-doc         noarch     2.32.0-1.amzn2.0.1        amzn2-core     2.7 M\n",
      " perl-Error           noarch     1:0.17020-2.amzn2         amzn2-core      32 k\n",
      " perl-Git             noarch     2.32.0-1.amzn2.0.1        amzn2-core      43 k\n",
      " perl-TermReadKey     x86_64     2.30-20.amzn2.0.2         amzn2-core      31 k\n",
      "\n",
      "Transaction Summary\n",
      "================================================================================\n",
      "Install  1 Package (+6 Dependent packages)\n",
      "\n",
      "Total download size: 7.8 M\n",
      "Installed size: 38 M\n",
      "Downloading packages:\n",
      "--------------------------------------------------------------------------------\n",
      "Total                                               20 MB/s | 7.8 MB  00:00     \n",
      "Running transaction check\n",
      "Running transaction test\n",
      "Transaction test succeeded\n",
      "Running transaction\n",
      "  Installing : git-core-2.32.0-1.amzn2.0.1.x86_64                           1/7 \n",
      "  Installing : git-core-doc-2.32.0-1.amzn2.0.1.noarch                       2/7 \n",
      "  Installing : 1:perl-Error-0.17020-2.amzn2.noarch                          3/7 \n",
      "  Installing : 1:emacs-filesystem-27.2-4.amzn2.0.1.noarch                   4/7 \n",
      "  Installing : perl-TermReadKey-2.30-20.amzn2.0.2.x86_64                    5/7 \n",
      "  Installing : perl-Git-2.32.0-1.amzn2.0.1.noarch                           6/7 \n",
      "  Installing : git-2.32.0-1.amzn2.0.1.x86_64                                7/7 \n",
      "  Verifying  : perl-TermReadKey-2.30-20.amzn2.0.2.x86_64                    1/7 \n",
      "  Verifying  : git-core-doc-2.32.0-1.amzn2.0.1.noarch                       2/7 \n",
      "  Verifying  : perl-Git-2.32.0-1.amzn2.0.1.noarch                           3/7 \n",
      "  Verifying  : 1:emacs-filesystem-27.2-4.amzn2.0.1.noarch                   4/7 \n",
      "  Verifying  : git-2.32.0-1.amzn2.0.1.x86_64                                5/7 \n",
      "  Verifying  : git-core-2.32.0-1.amzn2.0.1.x86_64                           6/7 \n",
      "  Verifying  : 1:perl-Error-0.17020-2.amzn2.noarch                          7/7 \n",
      "\n",
      "Installed:\n",
      "  git.x86_64 0:2.32.0-1.amzn2.0.1                                               \n",
      "\n",
      "Dependency Installed:\n",
      "  emacs-filesystem.noarch 1:27.2-4.amzn2.0.1                                    \n",
      "  git-core.x86_64 0:2.32.0-1.amzn2.0.1                                          \n",
      "  git-core-doc.noarch 0:2.32.0-1.amzn2.0.1                                      \n",
      "  perl-Error.noarch 1:0.17020-2.amzn2                                           \n",
      "  perl-Git.noarch 0:2.32.0-1.amzn2.0.1                                          \n",
      "  perl-TermReadKey.x86_64 0:2.30-20.amzn2.0.2                                   \n",
      "\n",
      "Complete!\n"
     ]
    }
   ],
   "source": [
    "# Gitのインストール\n",
    "cmd = \"sudo yum install -y git\"\n",
    "!ssh $SSH_OPTION $cmd"
   ]
  },
  {
   "cell_type": "code",
   "execution_count": 17,
   "id": "099bf7d4",
   "metadata": {},
   "outputs": [
    {
     "name": "stdout",
     "output_type": "stream",
     "text": [
      "Cloning into 'empty'...\r\n"
     ]
    }
   ],
   "source": [
    "# 実験リポジトリのclone\n",
    "cmd = \"git clone https://github.com/ivis-yoshida/empty.git\"\n",
    "!ssh $SSH_OPTION $cmd"
   ]
  },
  {
   "cell_type": "code",
   "execution_count": 20,
   "id": "6eeeeefa",
   "metadata": {},
   "outputs": [
    {
     "name": "stdout",
     "output_type": "stream",
     "text": [
      "ssh -i .ssh/id_rsa ec2-user@ec2-35-77-100-37.ap-northeast-1.compute.amazonaws.com\n"
     ]
    }
   ],
   "source": [
    "# 左上のバナーを押下し、トップ画面に遷移してください。\n",
    "# 遷移後、「New」「Terminal」を押下すると、ターミナルが表示されます。\n",
    "# このセルの実行結果として表示されたコマンドを押下して、mdx環境にアクセスし、実験活動を進めてください。\n",
    "\n",
    "print(\"ssh -i .ssh/id_rsa \" + USER + \"@\" + HOST)"
   ]
  },
  {
   "cell_type": "code",
   "execution_count": null,
   "id": "de9d6ba0",
   "metadata": {},
   "outputs": [],
   "source": [
    "# TODO\n",
    "# datalad 鍵設定\n",
    "# datalad remote設定\n",
    "# datalad save\n",
    "# datalad push"
   ]
  }
 ],
 "metadata": {
  "kernelspec": {
   "display_name": "Python 3 (ipykernel)",
   "language": "python",
   "name": "python3"
  },
  "language_info": {
   "codemirror_mode": {
    "name": "ipython",
    "version": 3
   },
   "file_extension": ".py",
   "mimetype": "text/x-python",
   "name": "python",
   "nbconvert_exporter": "python",
   "pygments_lexer": "ipython3",
   "version": "3.7.10"
  }
 },
 "nbformat": 4,
 "nbformat_minor": 5
}
