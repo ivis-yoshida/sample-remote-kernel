{
 "cells": [
  {
   "cell_type": "markdown",
   "id": "1e418848",
   "metadata": {},
   "source": [
    "# ssh-kernel\n",
    "\n",
    "- https://ipsj.ixsq.nii.ac.jp/ej/?action=repository_action_common_download&item_id=194824&item_no=1&attribute_id=1&file_no=1  \n",
    "  上記論文にて提案された手法。\n",
    "- ノートブックのインタフェースで実験操作ができる。\n",
    "- しかし、独自カーネルによる独自記法（%pythonなど）により実験コードを記述してもらう必要がある。\n",
    "- それに関連して、システムによる実験再現が困難かもしれない。"
   ]
  },
  {
   "cell_type": "code",
   "execution_count": 12,
   "id": "6f075828",
   "metadata": {},
   "outputs": [
    {
     "name": "stdout",
     "output_type": "stream",
     "text": [
      "Collecting sshkernel\n",
      "  Downloading sshkernel-0.11.1-py3-none-any.whl (11 kB)\n",
      "Requirement already satisfied: jupyter-client>=5.2.0 in /srv/conda/envs/notebook/lib/python3.7/site-packages (from sshkernel) (7.0.6)\n",
      "Collecting paramiko>=2.4.2\n",
      "  Downloading paramiko-2.9.2-py2.py3-none-any.whl (210 kB)\n",
      "\u001b[K     |████████████████████████████████| 210 kB 15.0 MB/s eta 0:00:01\n",
      "\u001b[?25hRequirement already satisfied: ipykernel>=5.0.0 in /srv/conda/envs/notebook/lib/python3.7/site-packages (from sshkernel) (6.4.1)\n",
      "Collecting metakernel>=0.20.0\n",
      "  Downloading metakernel-0.28.2-py2.py3-none-any.whl (217 kB)\n",
      "\u001b[K     |████████████████████████████████| 217 kB 70.9 MB/s eta 0:00:01\n",
      "\u001b[?25hRequirement already satisfied: ipython>=7.0.0 in /srv/conda/envs/notebook/lib/python3.7/site-packages (from sshkernel) (7.28.0)\n",
      "Collecting plumbum\n",
      "  Downloading plumbum-1.7.2-py2.py3-none-any.whl (117 kB)\n",
      "\u001b[K     |████████████████████████████████| 117 kB 130.5 MB/s eta 0:00:01\n",
      "\u001b[?25hRequirement already satisfied: nbconvert>=5.4.1 in /srv/conda/envs/notebook/lib/python3.7/site-packages (from sshkernel) (6.0.7)\n",
      "Requirement already satisfied: PyYAML in /srv/conda/envs/notebook/lib/python3.7/site-packages (from sshkernel) (6.0)\n",
      "Requirement already satisfied: traitlets<6.0,>=4.1.0 in /srv/conda/envs/notebook/lib/python3.7/site-packages (from ipykernel>=5.0.0->sshkernel) (5.1.0)\n",
      "Requirement already satisfied: argcomplete>=1.12.3 in /srv/conda/envs/notebook/lib/python3.7/site-packages (from ipykernel>=5.0.0->sshkernel) (1.12.3)\n",
      "Requirement already satisfied: matplotlib-inline<0.2.0,>=0.1.0 in /srv/conda/envs/notebook/lib/python3.7/site-packages (from ipykernel>=5.0.0->sshkernel) (0.1.3)\n",
      "Requirement already satisfied: ipython-genutils in /srv/conda/envs/notebook/lib/python3.7/site-packages (from ipykernel>=5.0.0->sshkernel) (0.2.0)\n",
      "Requirement already satisfied: importlib-metadata<5 in /srv/conda/envs/notebook/lib/python3.7/site-packages (from ipykernel>=5.0.0->sshkernel) (4.8.1)\n",
      "Requirement already satisfied: tornado<7.0,>=4.2 in /srv/conda/envs/notebook/lib/python3.7/site-packages (from ipykernel>=5.0.0->sshkernel) (6.1)\n",
      "Requirement already satisfied: debugpy<2.0,>=1.0.0 in /srv/conda/envs/notebook/lib/python3.7/site-packages (from ipykernel>=5.0.0->sshkernel) (1.4.1)\n",
      "Requirement already satisfied: typing-extensions>=3.6.4 in /srv/conda/envs/notebook/lib/python3.7/site-packages (from importlib-metadata<5->ipykernel>=5.0.0->sshkernel) (3.10.0.2)\n",
      "Requirement already satisfied: zipp>=0.5 in /srv/conda/envs/notebook/lib/python3.7/site-packages (from importlib-metadata<5->ipykernel>=5.0.0->sshkernel) (3.6.0)\n",
      "Requirement already satisfied: prompt-toolkit!=3.0.0,!=3.0.1,<3.1.0,>=2.0.0 in /srv/conda/envs/notebook/lib/python3.7/site-packages (from ipython>=7.0.0->sshkernel) (3.0.20)\n",
      "Requirement already satisfied: pexpect>4.3 in /srv/conda/envs/notebook/lib/python3.7/site-packages (from ipython>=7.0.0->sshkernel) (4.8.0)\n",
      "Requirement already satisfied: pickleshare in /srv/conda/envs/notebook/lib/python3.7/site-packages (from ipython>=7.0.0->sshkernel) (0.7.5)\n",
      "Requirement already satisfied: jedi>=0.16 in /srv/conda/envs/notebook/lib/python3.7/site-packages (from ipython>=7.0.0->sshkernel) (0.18.0)\n",
      "Requirement already satisfied: decorator in /srv/conda/envs/notebook/lib/python3.7/site-packages (from ipython>=7.0.0->sshkernel) (5.1.0)\n",
      "Requirement already satisfied: pygments in /srv/conda/envs/notebook/lib/python3.7/site-packages (from ipython>=7.0.0->sshkernel) (2.10.0)\n",
      "Requirement already satisfied: setuptools>=18.5 in /srv/conda/envs/notebook/lib/python3.7/site-packages (from ipython>=7.0.0->sshkernel) (58.2.0)\n",
      "Requirement already satisfied: backcall in /srv/conda/envs/notebook/lib/python3.7/site-packages (from ipython>=7.0.0->sshkernel) (0.2.0)\n",
      "Requirement already satisfied: parso<0.9.0,>=0.8.0 in /srv/conda/envs/notebook/lib/python3.7/site-packages (from jedi>=0.16->ipython>=7.0.0->sshkernel) (0.8.2)\n",
      "Requirement already satisfied: python-dateutil>=2.1 in /srv/conda/envs/notebook/lib/python3.7/site-packages (from jupyter-client>=5.2.0->sshkernel) (2.8.2)\n",
      "Requirement already satisfied: nest-asyncio>=1.5 in /srv/conda/envs/notebook/lib/python3.7/site-packages (from jupyter-client>=5.2.0->sshkernel) (1.5.1)\n",
      "Requirement already satisfied: pyzmq>=13 in /srv/conda/envs/notebook/lib/python3.7/site-packages (from jupyter-client>=5.2.0->sshkernel) (22.3.0)\n",
      "Requirement already satisfied: jupyter-core>=4.6.0 in /srv/conda/envs/notebook/lib/python3.7/site-packages (from jupyter-client>=5.2.0->sshkernel) (4.8.1)\n",
      "Requirement already satisfied: entrypoints in /srv/conda/envs/notebook/lib/python3.7/site-packages (from jupyter-client>=5.2.0->sshkernel) (0.3)\n",
      "Requirement already satisfied: jupyterlab-pygments in /srv/conda/envs/notebook/lib/python3.7/site-packages (from nbconvert>=5.4.1->sshkernel) (0.1.2)\n",
      "Requirement already satisfied: nbformat>=4.4 in /srv/conda/envs/notebook/lib/python3.7/site-packages (from nbconvert>=5.4.1->sshkernel) (5.1.3)\n",
      "Requirement already satisfied: testpath in /srv/conda/envs/notebook/lib/python3.7/site-packages (from nbconvert>=5.4.1->sshkernel) (0.5.0)\n",
      "Requirement already satisfied: mistune<2,>=0.8.1 in /srv/conda/envs/notebook/lib/python3.7/site-packages (from nbconvert>=5.4.1->sshkernel) (0.8.4)\n",
      "Requirement already satisfied: jinja2>=2.4 in /srv/conda/envs/notebook/lib/python3.7/site-packages (from nbconvert>=5.4.1->sshkernel) (3.0.1)\n",
      "Requirement already satisfied: pandocfilters>=1.4.1 in /srv/conda/envs/notebook/lib/python3.7/site-packages (from nbconvert>=5.4.1->sshkernel) (1.5.0)\n",
      "Requirement already satisfied: defusedxml in /srv/conda/envs/notebook/lib/python3.7/site-packages (from nbconvert>=5.4.1->sshkernel) (0.7.1)\n",
      "Requirement already satisfied: bleach in /srv/conda/envs/notebook/lib/python3.7/site-packages (from nbconvert>=5.4.1->sshkernel) (4.1.0)\n",
      "Requirement already satisfied: nbclient<0.6.0,>=0.5.0 in /srv/conda/envs/notebook/lib/python3.7/site-packages (from nbconvert>=5.4.1->sshkernel) (0.5.4)\n",
      "Requirement already satisfied: MarkupSafe>=2.0 in /srv/conda/envs/notebook/lib/python3.7/site-packages (from jinja2>=2.4->nbconvert>=5.4.1->sshkernel) (2.0.1)\n",
      "Requirement already satisfied: jsonschema!=2.5.0,>=2.4 in /srv/conda/envs/notebook/lib/python3.7/site-packages (from nbformat>=4.4->nbconvert>=5.4.1->sshkernel) (4.0.1)\n",
      "Requirement already satisfied: attrs>=17.4.0 in /srv/conda/envs/notebook/lib/python3.7/site-packages (from jsonschema!=2.5.0,>=2.4->nbformat>=4.4->nbconvert>=5.4.1->sshkernel) (21.2.0)\n",
      "Requirement already satisfied: pyrsistent!=0.17.0,!=0.17.1,!=0.17.2,>=0.14.0 in /srv/conda/envs/notebook/lib/python3.7/site-packages (from jsonschema!=2.5.0,>=2.4->nbformat>=4.4->nbconvert>=5.4.1->sshkernel) (0.17.3)\n",
      "Collecting bcrypt>=3.1.3\n",
      "  Downloading bcrypt-3.2.0-cp36-abi3-manylinux_2_17_x86_64.manylinux2014_x86_64.manylinux_2_24_x86_64.whl (61 kB)\n",
      "\u001b[K     |████████████████████████████████| 61 kB 362 kB/s  eta 0:00:01\n",
      "\u001b[?25hRequirement already satisfied: cryptography>=2.5 in /srv/conda/envs/notebook/lib/python3.7/site-packages (from paramiko>=2.4.2->sshkernel) (3.4.7)\n",
      "Collecting pynacl>=1.0.1\n",
      "  Downloading PyNaCl-1.5.0-cp36-abi3-manylinux_2_17_x86_64.manylinux2014_x86_64.manylinux_2_24_x86_64.whl (856 kB)\n",
      "\u001b[K     |████████████████████████████████| 856 kB 103.5 MB/s eta 0:00:01B/s eta 0:00:01\n",
      "\u001b[?25hRequirement already satisfied: cffi>=1.1 in /srv/conda/envs/notebook/lib/python3.7/site-packages (from bcrypt>=3.1.3->paramiko>=2.4.2->sshkernel) (1.14.6)\n",
      "Requirement already satisfied: six>=1.4.1 in /srv/conda/envs/notebook/lib/python3.7/site-packages (from bcrypt>=3.1.3->paramiko>=2.4.2->sshkernel) (1.16.0)\n",
      "Requirement already satisfied: pycparser in /srv/conda/envs/notebook/lib/python3.7/site-packages (from cffi>=1.1->bcrypt>=3.1.3->paramiko>=2.4.2->sshkernel) (2.20)\n",
      "Requirement already satisfied: ptyprocess>=0.5 in /srv/conda/envs/notebook/lib/python3.7/site-packages (from pexpect>4.3->ipython>=7.0.0->sshkernel) (0.7.0)\n",
      "Requirement already satisfied: wcwidth in /srv/conda/envs/notebook/lib/python3.7/site-packages (from prompt-toolkit!=3.0.0,!=3.0.1,<3.1.0,>=2.0.0->ipython>=7.0.0->sshkernel) (0.2.5)\n",
      "Requirement already satisfied: webencodings in /srv/conda/envs/notebook/lib/python3.7/site-packages (from bleach->nbconvert>=5.4.1->sshkernel) (0.5.1)\n",
      "Requirement already satisfied: packaging in /srv/conda/envs/notebook/lib/python3.7/site-packages (from bleach->nbconvert>=5.4.1->sshkernel) (21.0)\n",
      "Requirement already satisfied: pyparsing>=2.0.2 in /srv/conda/envs/notebook/lib/python3.7/site-packages (from packaging->bleach->nbconvert>=5.4.1->sshkernel) (2.4.7)\n"
     ]
    },
    {
     "name": "stdout",
     "output_type": "stream",
     "text": [
      "Installing collected packages: pynacl, bcrypt, plumbum, paramiko, metakernel, sshkernel\n",
      "Successfully installed bcrypt-3.2.0 metakernel-0.28.2 paramiko-2.9.2 plumbum-1.7.2 pynacl-1.5.0 sshkernel-0.11.1\n"
     ]
    }
   ],
   "source": [
    "!pip install sshkernel"
   ]
  },
  {
   "cell_type": "code",
   "execution_count": 16,
   "id": "39aa05f4",
   "metadata": {},
   "outputs": [
    {
     "name": "stdout",
     "output_type": "stream",
     "text": [
      "[InstallKernelSpec] Installed kernelspec ssh in /home/jovyan/.local/share/jupyter/kernels/ssh\r\n"
     ]
    }
   ],
   "source": [
    "!python -m sshkernel install --user"
   ]
  },
  {
   "cell_type": "code",
   "execution_count": 2,
   "id": "aede3bea",
   "metadata": {},
   "outputs": [],
   "source": [
    "# 定数定義\n",
    "USER = \"ec2-user\"\n",
    "HOST = \"ec2-35-77-100-37.ap-northeast-1.compute.amazonaws.com\"\n",
    "SSH_OPTION = \"-i ~/.ssh/id_rsa \" + USER + \"@\" + HOST"
   ]
  },
  {
   "cell_type": "code",
   "execution_count": 10,
   "id": "3b1f1696",
   "metadata": {},
   "outputs": [],
   "source": [
    "%%sh\n",
    "echo \"\n",
    "Host mdx\n",
    "  Hostname ec2-35-77-100-37.ap-northeast-1.compute.amazonaws.com\n",
    "  User ec2-user\n",
    "  Port 22\n",
    "  IdentityFile ~/.ssh/id_rsa\n",
    "\" > .ssh/config"
   ]
  },
  {
   "cell_type": "code",
   "execution_count": 11,
   "id": "c412a8e0",
   "metadata": {},
   "outputs": [
    {
     "name": "stdout",
     "output_type": "stream",
     "text": [
      "\r\n",
      "Host mdx\r\n",
      "  Hostname ec2-35-77-100-37.ap-northeast-1.compute.amazonaws.com\r\n",
      "  User ec2-user\r\n",
      "  Port 22\r\n",
      "  IdentityFile ~/.ssh/id_rsa\r\n",
      "\r\n"
     ]
    }
   ],
   "source": [
    "!cat .ssh/config"
   ]
  },
  {
   "cell_type": "code",
   "execution_count": 1,
   "id": "15a4498e",
   "metadata": {},
   "outputs": [
    {
     "name": "stderr",
     "output_type": "stream",
     "text": [
      "\u001b[0;31m[ssh] Not logged in.\n",
      "\u001b[0m\u001b[0;31mTraceback (most recent call last):\n",
      "  File \"/srv/conda/envs/notebook/lib/python3.7/site-packages/sshkernel/kernel.py\", line 109, in do_execute_direct\n",
      "    self.assert_connected()\n",
      "  File \"/srv/conda/envs/notebook/lib/python3.7/site-packages/sshkernel/kernel.py\", line 218, in assert_connected\n",
      "    raise SSHKernelNotConnectedException\n",
      "sshkernel.exception.SSHKernelNotConnectedException\n",
      "\n",
      "\u001b[0m"
     ]
    },
    {
     "ename": "abort",
     "evalue": "not connected",
     "output_type": "error",
     "traceback": []
    }
   ],
   "source": [
    "# 画面をリロードする\n",
    "# 「Kernel」「Change kernel」「SSH」を押下"
   ]
  },
  {
   "cell_type": "code",
   "execution_count": 2,
   "id": "9e6a9f71",
   "metadata": {},
   "outputs": [
    {
     "name": "stdout",
     "output_type": "stream",
     "text": [
      "[ssh] Login to mdx...\n",
      "[ssh] host=mdx hostname=ec2-35-77-100-37.ap-northeast-1.compute.amazonaws.com other_conf={'user': 'ec2-user', 'port': 22, 'keyfile': ['/home/jovyan/.ssh/id_rsa'], 'load_system_ssh_config': False, 'missing_host_policy': <paramiko.client.WarningPolicy object at 0x7f56c07f8bd0>}\n",
      "[ssh] Successfully logged in.\n"
     ]
    }
   ],
   "source": [
    "%login mdx"
   ]
  },
  {
   "cell_type": "code",
   "execution_count": 4,
   "id": "a07b448c",
   "metadata": {},
   "outputs": [
    {
     "name": "stdout",
     "output_type": "stream",
     "text": [
      "[ssh] host = mdx, cwd = /home/ec2-user\n"
     ]
    }
   ],
   "source": [
    "echo hello > sample_ssh-kernel.txt"
   ]
  },
  {
   "cell_type": "code",
   "execution_count": 5,
   "id": "9961c337",
   "metadata": {},
   "outputs": [],
   "source": [
    "%python x = 1"
   ]
  },
  {
   "cell_type": "code",
   "execution_count": 6,
   "id": "c2a00ac3",
   "metadata": {},
   "outputs": [
    {
     "data": {
      "text/plain": [
       "3"
      ]
     },
     "execution_count": 6,
     "metadata": {},
     "output_type": "execute_result"
    }
   ],
   "source": [
    "%python x + 2"
   ]
  }
 ],
 "metadata": {
  "kernelspec": {
   "display_name": "SSH",
   "language": "bash",
   "name": "ssh"
  },
  "language_info": {
   "codemirror_mode": "shell",
   "file_extension": ".sh",
   "mimetype": "text/x-sh",
   "name": "ssh"
  }
 },
 "nbformat": 4,
 "nbformat_minor": 5
}
