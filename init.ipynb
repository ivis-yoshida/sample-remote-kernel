{
 "cells": [
  {
   "cell_type": "code",
   "execution_count": 2,
   "id": "dc809355",
   "metadata": {},
   "outputs": [
    {
     "name": "stdout",
     "output_type": "stream",
     "text": [
      "apt 1.6.12ubuntu0.1 (amd64)\r\n",
      "Usage: apt [options] command\r\n",
      "\r\n",
      "apt is a commandline package manager and provides commands for\r\n",
      "searching and managing as well as querying information about packages.\r\n",
      "It provides the same functionality as the specialized APT tools,\r\n",
      "like apt-get and apt-cache, but enables options more suitable for\r\n",
      "interactive use by default.\r\n",
      "\r\n",
      "Most used commands:\r\n",
      "  list - list packages based on package names\r\n",
      "  search - search in package descriptions\r\n",
      "  show - show package details\r\n",
      "  install - install packages\r\n",
      "  remove - remove packages\r\n",
      "  autoremove - Remove automatically all unused packages\r\n",
      "  update - update list of available packages\r\n",
      "  upgrade - upgrade the system by installing/upgrading packages\r\n",
      "  full-upgrade - upgrade the system by removing/installing/upgrading packages\r\n",
      "  edit-sources - edit the source information file\r\n",
      "\r\n",
      "See apt(8) for more information about the available commands.\r\n",
      "Configuration options and syntax is detailed in apt.conf(5).\r\n",
      "Information about how to configure sources can be found in sources.list(5).\r\n",
      "Package and version choices can be expressed via apt_preferences(5).\r\n",
      "Security details are available in apt-secure(8).\r\n",
      "                                        This APT has Super Cow Powers.\r\n"
     ]
    }
   ],
   "source": [
    "!conda install -y nano"
   ]
  }
 ],
 "metadata": {
  "kernelspec": {
   "display_name": "Python 3 (ipykernel)",
   "language": "python",
   "name": "python3"
  },
  "language_info": {
   "codemirror_mode": {
    "name": "ipython",
    "version": 3
   },
   "file_extension": ".py",
   "mimetype": "text/x-python",
   "name": "python",
   "nbconvert_exporter": "python",
   "pygments_lexer": "ipython3",
   "version": "3.7.10"
  }
 },
 "nbformat": 4,
 "nbformat_minor": 5
}
